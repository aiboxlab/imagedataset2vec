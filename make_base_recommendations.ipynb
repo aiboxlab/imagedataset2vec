{
 "cells": [
  {
   "cell_type": "code",
   "execution_count": 1,
   "metadata": {},
   "outputs": [],
   "source": [
    "import os\n",
    "import re\n",
    "import math\n",
    "import pickle\n",
    "import random\n",
    "import numpy as np\n",
    "import pandas as pd\n",
    "import seaborn as sns\n",
    "import matplotlib.pyplot as plt\n",
    "\n",
    "from pathlib import Path\n",
    "from scipy.spatial import ConvexHull\n",
    "from skcriteria import Data, MAX\n",
    "from skcriteria.madm.closeness import TOPSIS\n",
    "from sklearn.preprocessing import LabelEncoder\n",
    "from sklearn.model_selection import LeaveOneOut\n",
    "from sklearn.discriminant_analysis import LinearDiscriminantAnalysis\n",
    "from sklearn.neighbors import KNeighborsClassifier\n",
    "from sklearn.ensemble import RandomForestClassifier"
   ]
  },
  {
   "cell_type": "code",
   "execution_count": 72,
   "metadata": {},
   "outputs": [],
   "source": [
    "DATA_PATH = Path('data')\n",
    "RESULTS_PATH = DATA_PATH / 'results'\n",
    "META_FEATURES_PATH = DATA_PATH / 'meta_features'\n",
    "BASE_RECOMMENDATIONS_PATH = DATA_PATH / 'base_recommendations'\n",
    "OUTPUT_PATH = Path('output', 'handcraft')"
   ]
  },
  {
   "cell_type": "code",
   "execution_count": 73,
   "metadata": {},
   "outputs": [],
   "source": [
    "os.makedirs(RECOMMENDATIONS_PATH, exist_ok=True)\n",
    "os.makedirs(OUTPUT_PATH, exist_ok=True)"
   ]
  },
  {
   "cell_type": "code",
   "execution_count": 4,
   "metadata": {},
   "outputs": [],
   "source": [
    "results_dfs = {}\n",
    "for filename in os.listdir(RESULTS_PATH):\n",
    "    archtecture = re.search(r'(?<=results_).*(?=.csv)', filename).group()\n",
    "    results_dfs[archtecture] = pd.read_csv(RESULTS_PATH / filename)"
   ]
  },
  {
   "cell_type": "code",
   "execution_count": 5,
   "metadata": {},
   "outputs": [],
   "source": [
    "results_df = pd.concat(results_dfs.values(), ignore_index=True)"
   ]
  },
  {
   "cell_type": "code",
   "execution_count": 6,
   "metadata": {},
   "outputs": [
    {
     "data": {
      "text/html": [
       "<div>\n",
       "<style scoped>\n",
       "    .dataframe tbody tr th:only-of-type {\n",
       "        vertical-align: middle;\n",
       "    }\n",
       "\n",
       "    .dataframe tbody tr th {\n",
       "        vertical-align: top;\n",
       "    }\n",
       "\n",
       "    .dataframe thead th {\n",
       "        text-align: right;\n",
       "    }\n",
       "</style>\n",
       "<table border=\"1\" class=\"dataframe\">\n",
       "  <thead>\n",
       "    <tr style=\"text-align: right;\">\n",
       "      <th></th>\n",
       "      <th>Architecture</th>\n",
       "      <th>Task</th>\n",
       "      <th>Accuracy_vector</th>\n",
       "      <th>Precision_vector</th>\n",
       "      <th>Recall_vector</th>\n",
       "      <th>F1_vector</th>\n",
       "      <th>Accuracy_avg</th>\n",
       "      <th>Precision_avg</th>\n",
       "      <th>Recall_avg</th>\n",
       "      <th>F1_avg</th>\n",
       "    </tr>\n",
       "  </thead>\n",
       "  <tbody>\n",
       "    <tr>\n",
       "      <th>0</th>\n",
       "      <td>ResNet10</td>\n",
       "      <td>airplane-automobile</td>\n",
       "      <td>[0.942, 0.939, 0.93, 0.9275, 0.916, 0.9315, 0....</td>\n",
       "      <td>[0.9203510204081633, 0.9051657032755298, 0.893...</td>\n",
       "      <td>[0.932, 0.958, 0.948, 0.939, 0.954, 0.938, 0.8...</td>\n",
       "      <td>[0.9414141414141414, 0.9401373895976447, 0.931...</td>\n",
       "      <td>0.92505</td>\n",
       "      <td>0.892683</td>\n",
       "      <td>0.9274</td>\n",
       "      <td>0.925149</td>\n",
       "    </tr>\n",
       "    <tr>\n",
       "      <th>1</th>\n",
       "      <td>ResNet10</td>\n",
       "      <td>airplane-bird</td>\n",
       "      <td>[0.89, 0.889, 0.8935, 0.882, 0.875, 0.8895, 0....</td>\n",
       "      <td>[0.8614113785557986, 0.8492249488752557, 0.852...</td>\n",
       "      <td>[0.847, 0.878, 0.89, 0.886, 0.888, 0.89, 0.887...</td>\n",
       "      <td>[0.8850574712643677, 0.8877654196157735, 0.893...</td>\n",
       "      <td>0.88480</td>\n",
       "      <td>0.843588</td>\n",
       "      <td>0.8753</td>\n",
       "      <td>0.883662</td>\n",
       "    </tr>\n",
       "    <tr>\n",
       "      <th>2</th>\n",
       "      <td>ResNet10</td>\n",
       "      <td>airplane-cat</td>\n",
       "      <td>[0.9245, 0.9325, 0.935, 0.926, 0.932, 0.925, 0...</td>\n",
       "      <td>[0.8897871921182265, 0.8980344995140912, 0.905...</td>\n",
       "      <td>[0.932, 0.947, 0.937, 0.938, 0.961, 0.909, 0.8...</td>\n",
       "      <td>[0.9250620347394541, 0.933464760965993, 0.9351...</td>\n",
       "      <td>0.92580</td>\n",
       "      <td>0.893557</td>\n",
       "      <td>0.9279</td>\n",
       "      <td>0.925876</td>\n",
       "    </tr>\n",
       "    <tr>\n",
       "      <th>3</th>\n",
       "      <td>ResNet10</td>\n",
       "      <td>airplane-deer</td>\n",
       "      <td>[0.9475, 0.9125, 0.943, 0.93, 0.917, 0.936, 0....</td>\n",
       "      <td>[0.9234072781655036, 0.8553790534618757, 0.921...</td>\n",
       "      <td>[0.949, 0.983, 0.933, 0.98, 0.935, 0.928, 0.95...</td>\n",
       "      <td>[0.947578632051922, 0.9182624941616068, 0.9424...</td>\n",
       "      <td>0.93320</td>\n",
       "      <td>0.900529</td>\n",
       "      <td>0.9460</td>\n",
       "      <td>0.934192</td>\n",
       "    </tr>\n",
       "    <tr>\n",
       "      <th>4</th>\n",
       "      <td>ResNet10</td>\n",
       "      <td>airplane-dog</td>\n",
       "      <td>[0.948, 0.9515, 0.936, 0.947, 0.9345, 0.9475, ...</td>\n",
       "      <td>[0.924704, 0.9361238390092881, 0.9224043010752...</td>\n",
       "      <td>[0.948, 0.936, 0.901, 0.95, 0.914, 0.93, 0.955...</td>\n",
       "      <td>[0.948, 0.9507364144235654, 0.9336787564766839...</td>\n",
       "      <td>0.94470</td>\n",
       "      <td>0.923633</td>\n",
       "      <td>0.9363</td>\n",
       "      <td>0.944177</td>\n",
       "    </tr>\n",
       "  </tbody>\n",
       "</table>\n",
       "</div>"
      ],
      "text/plain": [
       "  Architecture                 Task  \\\n",
       "0     ResNet10  airplane-automobile   \n",
       "1     ResNet10        airplane-bird   \n",
       "2     ResNet10         airplane-cat   \n",
       "3     ResNet10        airplane-deer   \n",
       "4     ResNet10         airplane-dog   \n",
       "\n",
       "                                     Accuracy_vector  \\\n",
       "0  [0.942, 0.939, 0.93, 0.9275, 0.916, 0.9315, 0....   \n",
       "1  [0.89, 0.889, 0.8935, 0.882, 0.875, 0.8895, 0....   \n",
       "2  [0.9245, 0.9325, 0.935, 0.926, 0.932, 0.925, 0...   \n",
       "3  [0.9475, 0.9125, 0.943, 0.93, 0.917, 0.936, 0....   \n",
       "4  [0.948, 0.9515, 0.936, 0.947, 0.9345, 0.9475, ...   \n",
       "\n",
       "                                    Precision_vector  \\\n",
       "0  [0.9203510204081633, 0.9051657032755298, 0.893...   \n",
       "1  [0.8614113785557986, 0.8492249488752557, 0.852...   \n",
       "2  [0.8897871921182265, 0.8980344995140912, 0.905...   \n",
       "3  [0.9234072781655036, 0.8553790534618757, 0.921...   \n",
       "4  [0.924704, 0.9361238390092881, 0.9224043010752...   \n",
       "\n",
       "                                       Recall_vector  \\\n",
       "0  [0.932, 0.958, 0.948, 0.939, 0.954, 0.938, 0.8...   \n",
       "1  [0.847, 0.878, 0.89, 0.886, 0.888, 0.89, 0.887...   \n",
       "2  [0.932, 0.947, 0.937, 0.938, 0.961, 0.909, 0.8...   \n",
       "3  [0.949, 0.983, 0.933, 0.98, 0.935, 0.928, 0.95...   \n",
       "4  [0.948, 0.936, 0.901, 0.95, 0.914, 0.93, 0.955...   \n",
       "\n",
       "                                           F1_vector  Accuracy_avg  \\\n",
       "0  [0.9414141414141414, 0.9401373895976447, 0.931...       0.92505   \n",
       "1  [0.8850574712643677, 0.8877654196157735, 0.893...       0.88480   \n",
       "2  [0.9250620347394541, 0.933464760965993, 0.9351...       0.92580   \n",
       "3  [0.947578632051922, 0.9182624941616068, 0.9424...       0.93320   \n",
       "4  [0.948, 0.9507364144235654, 0.9336787564766839...       0.94470   \n",
       "\n",
       "   Precision_avg  Recall_avg    F1_avg  \n",
       "0       0.892683      0.9274  0.925149  \n",
       "1       0.843588      0.8753  0.883662  \n",
       "2       0.893557      0.9279  0.925876  \n",
       "3       0.900529      0.9460  0.934192  \n",
       "4       0.923633      0.9363  0.944177  "
      ]
     },
     "execution_count": 6,
     "metadata": {},
     "output_type": "execute_result"
    }
   ],
   "source": [
    "results_df.head()"
   ]
  },
  {
   "cell_type": "code",
   "execution_count": 7,
   "metadata": {},
   "outputs": [],
   "source": [
    "TASKS = results_df['Task'].unique()\n",
    "ARCHITECTURES = results_df['Architecture'].unique()"
   ]
  },
  {
   "cell_type": "code",
   "execution_count": 8,
   "metadata": {},
   "outputs": [
    {
     "data": {
      "text/plain": [
       "LabelEncoder()"
      ]
     },
     "execution_count": 8,
     "metadata": {},
     "output_type": "execute_result"
    }
   ],
   "source": [
    "label_encoder = LabelEncoder()\n",
    "label_encoder.fit(ARCHITECTURES)"
   ]
  },
  {
   "cell_type": "code",
   "execution_count": 9,
   "metadata": {},
   "outputs": [],
   "source": [
    "leave_one_out = LeaveOneOut()"
   ]
  },
  {
   "cell_type": "code",
   "execution_count": 10,
   "metadata": {},
   "outputs": [],
   "source": [
    "metrics_avg = {}\n",
    "metrics_vectors = {}\n",
    "for task in TASKS:\n",
    "    df = results_df.query(f'Task == \"{task}\"')\n",
    "    metrics_avg[task] = {}\n",
    "    metrics_vectors[task] = {}\n",
    "    for _, row in df.iterrows():\n",
    "        metrics_avg[task][row['Architecture']] = {\n",
    "            'accuracy': row['Accuracy_avg'],\n",
    "            'precision': row['Precision_avg'],\n",
    "            'recall': row['Recall_avg'],\n",
    "            'f1': row['F1_avg']\n",
    "        }\n",
    "        metrics_vectors[task][row['Architecture']] = {\n",
    "            'accuracy': np.array(eval(row['Accuracy_vector'])),\n",
    "            'precision': np.array(eval(row['Precision_vector'])),\n",
    "            'recall': np.array(eval(row['Recall_vector'])),\n",
    "            'f1': np.array(eval(row['F1_vector']))\n",
    "        }"
   ]
  },
  {
   "cell_type": "code",
   "execution_count": 11,
   "metadata": {},
   "outputs": [],
   "source": [
    "ranking_architectures = {}\n",
    "for task in TASKS:\n",
    "    metrics_columns = ['Accuracy_avg', 'Precision_avg', 'Recall_avg', 'F1_avg']\n",
    "    metrics_df = results_df.query(f'Task == \"{task}\"')[metrics_columns]\n",
    "    data = Data(metrics_df.to_numpy(), criteria=[MAX, MAX, MAX, MAX])\n",
    "    topsis = TOPSIS()\n",
    "    ranking_architectures[task] = results_df.iloc[\n",
    "        metrics_df.index[np.argsort(topsis.decide(data).rank_)]\n",
    "    ]['Architecture'].tolist()"
   ]
  },
  {
   "cell_type": "code",
   "execution_count": 12,
   "metadata": {},
   "outputs": [],
   "source": [
    "best_architectures = [\n",
    "    ranking_architectures[task][0]\n",
    "    for task in TASKS\n",
    "]"
   ]
  },
  {
   "cell_type": "code",
   "execution_count": 13,
   "metadata": {},
   "outputs": [],
   "source": [
    "y = label_encoder.transform(best_architectures)"
   ]
  },
  {
   "cell_type": "code",
   "execution_count": 14,
   "metadata": {},
   "outputs": [],
   "source": [
    "def load_meta_features(feature_extractor_name: str) -> np.ndarray:\n",
    "    meta_features = []\n",
    "    for task in TASKS:\n",
    "        filename = task + '.pkl'\n",
    "        with open(META_FEATURES_PATH / feature_extractor_name / filename, 'rb') as f:\n",
    "            meta_features.append(pickle.load(f))\n",
    "    return np.array(meta_features)"
   ]
  },
  {
   "cell_type": "code",
   "execution_count": 15,
   "metadata": {},
   "outputs": [],
   "source": [
    "handcraft_X = load_meta_features('handcraft')"
   ]
  },
  {
   "cell_type": "code",
   "execution_count": 17,
   "metadata": {},
   "outputs": [],
   "source": [
    "def make_dataset_map_plot(X, y):\n",
    "\n",
    "    def encircle(i, j, ax=None, **kw):\n",
    "        if not ax:\n",
    "            ax = plt.gca()\n",
    "        p = np.c_[i, j]\n",
    "        hull = ConvexHull(p)\n",
    "        poly = plt.Polygon(p[hull.vertices, :], **kw)\n",
    "        ax.add_patch(poly)\n",
    "\n",
    "    lda = LinearDiscriminantAnalysis(n_components=2)\n",
    "\n",
    "    component_x, component_y = lda.fit_transform(X, y).T\n",
    "\n",
    "    g = sns.scatterplot(component_x, component_y, hue=y, style=y)\n",
    "    g.legend(fontsize='x-small', frameon=False)\n",
    "\n",
    "    for label, color in zip(np.unique(y), ('r', 'g', 'y', 'b')):\n",
    "        index = np.where(label == pd.Series(y))\n",
    "        encircle(\n",
    "            component_x[index],\n",
    "            component_y[index],\n",
    "            ec=color,\n",
    "            fc=color,\n",
    "            alpha=0.15\n",
    "        )\n",
    "\n",
    "    plt.savefig(OUTPUT_PATH / 'datasets_map.png', dpi=1200, bbox_inches='tight')\n",
    "    plt.show()"
   ]
  },
  {
   "cell_type": "code",
   "execution_count": 18,
   "metadata": {},
   "outputs": [
    {
     "data": {
      "image/png": "[encoded data removed]",
      "text/plain": [
       "<Figure size 432x288 with 1 Axes>"
      ]
     },
     "metadata": {
      "needs_background": "light"
     },
     "output_type": "display_data"
    }
   ],
   "source": [
    "make_dataset_map_plot(handcraft_X, best_architectures)"
   ]
  },
  {
   "cell_type": "code",
   "execution_count": 19,
   "metadata": {},
   "outputs": [
    {
     "name": "stdout",
     "output_type": "stream",
     "text": [
      "CPU times: user 20 µs, sys: 1e+03 ns, total: 21 µs\n",
      "Wall time: 26.7 µs\n"
     ]
    }
   ],
   "source": [
    "%%time\n",
    "\n",
    "gt_recommendations = dict(zip(TASKS, best_architectures))"
   ]
  },
  {
   "cell_type": "code",
   "execution_count": 20,
   "metadata": {},
   "outputs": [
    {
     "name": "stdout",
     "output_type": "stream",
     "text": [
      "CPU times: user 8.08 s, sys: 2.75 ms, total: 8.08 s\n",
      "Wall time: 8.1 s\n"
     ]
    }
   ],
   "source": [
    "%%time\n",
    "\n",
    "handcraft_rf_recommendations = {}\n",
    "for train_index, test_index in leave_one_out.split(TASKS):\n",
    "    clf = RandomForestClassifier()\n",
    "    clf.fit(handcraft_X[train_index], y[train_index])\n",
    "    task = TASKS[test_index[0]]\n",
    "    recommended_architecture = label_encoder.inverse_transform(\n",
    "        clf.predict(handcraft_X[test_index])\n",
    "    )[0]\n",
    "    handcraft_rf_recommendations[task] = recommended_architecture"
   ]
  },
  {
   "cell_type": "code",
   "execution_count": 22,
   "metadata": {},
   "outputs": [
    {
     "name": "stdout",
     "output_type": "stream",
     "text": [
      "CPU times: user 67.6 ms, sys: 7.73 ms, total: 75.3 ms\n",
      "Wall time: 75.7 ms\n"
     ]
    }
   ],
   "source": [
    "%%time\n",
    "\n",
    "handcraft_knn_recommendations = {}\n",
    "for train_index, test_index in leave_one_out.split(TASKS):\n",
    "    clf = KNeighborsClassifier(n_neighbors=4)\n",
    "    clf.fit(handcraft_X[train_index], y[train_index])\n",
    "    task = TASKS[test_index[0]]\n",
    "    recommended_architecture = label_encoder.inverse_transform(\n",
    "        clf.predict(handcraft_X[test_index])\n",
    "    )[0]\n",
    "    handcraft_knn_recommendations[task] = recommended_architecture"
   ]
  },
  {
   "cell_type": "code",
   "execution_count": 24,
   "metadata": {},
   "outputs": [
    {
     "name": "stdout",
     "output_type": "stream",
     "text": [
      "CPU times: user 108 µs, sys: 0 ns, total: 108 µs\n",
      "Wall time: 112 µs\n"
     ]
    }
   ],
   "source": [
    "%%time\n",
    "\n",
    "oner_recommendations = []\n",
    "for _ in range(10):\n",
    "    recommended_architecture = random.choice(ARCHITECTURES)\n",
    "    oner_recommendations.append({\n",
    "        task: recommended_architecture\n",
    "        for task in TASKS\n",
    "    })"
   ]
  },
  {
   "cell_type": "code",
   "execution_count": 25,
   "metadata": {
    "scrolled": true
   },
   "outputs": [
    {
     "name": "stdout",
     "output_type": "stream",
     "text": [
      "CPU times: user 694 µs, sys: 0 ns, total: 694 µs\n",
      "Wall time: 704 µs\n"
     ]
    }
   ],
   "source": [
    "%%time\n",
    "\n",
    "random_recommendations = []\n",
    "for _ in range(10):\n",
    "    random_recommendations.append({\n",
    "        task: random.choice(ARCHITECTURES)\n",
    "        for task in TASKS\n",
    "    })"
   ]
  },
  {
   "cell_type": "code",
   "execution_count": 75,
   "metadata": {},
   "outputs": [],
   "source": [
    "with open(BASE_RECOMMENDATIONS_PATH / 'gt.pkl', 'wb') as f:\n",
    "    pickle.dump(gt_recommendations, f)"
   ]
  },
  {
   "cell_type": "code",
   "execution_count": 76,
   "metadata": {},
   "outputs": [],
   "source": [
    "with open(BASE_RECOMMENDATIONS_PATH / 'handcraft_rf.pkl', 'wb') as f:\n",
    "    pickle.dump(handcraft_rf_recommendations, f)"
   ]
  },
  {
   "cell_type": "code",
   "execution_count": 77,
   "metadata": {},
   "outputs": [],
   "source": [
    "with open(BASE_RECOMMENDATIONS_PATH / 'handcraft_knn.pkl', 'wb') as f:\n",
    "    pickle.dump(handcraft_knn_recommendations, f)"
   ]
  },
  {
   "cell_type": "code",
   "execution_count": 78,
   "metadata": {},
   "outputs": [],
   "source": [
    "with open(BASE_RECOMMENDATIONS_PATH / 'oner.pkl', 'wb') as f:\n",
    "    pickle.dump(oner_recommendations, f)"
   ]
  },
  {
   "cell_type": "code",
   "execution_count": 79,
   "metadata": {},
   "outputs": [],
   "source": [
    "with open(BASE_RECOMMENDATIONS_PATH / 'random.pkl', 'wb') as f:\n",
    "    pickle.dump(random_recommendations, f)"
   ]
  }
 ],
 "metadata": {
  "kernelspec": {
   "display_name": "Python 3",
   "language": "python",
   "name": "python3"
  },
  "language_info": {
   "codemirror_mode": {
    "name": "ipython",
    "version": 3
   },
   "file_extension": ".py",
   "mimetype": "text/x-python",
   "name": "python",
   "nbconvert_exporter": "python",
   "pygments_lexer": "ipython3",
   "version": "3.7.0"
  }
 },
 "nbformat": 4,
 "nbformat_minor": 4
}
