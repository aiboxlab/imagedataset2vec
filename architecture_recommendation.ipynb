{
 "cells": [
  {
   "cell_type": "code",
   "execution_count": 1,
   "metadata": {
    "colab": {},
    "colab_type": "code",
    "id": "IzWGhGEFzfIO"
   },
   "outputs": [],
   "source": [
    "import os\n",
    "import re\n",
    "import pickle\n",
    "import numpy as np\n",
    "import pandas as pd\n",
    "import humanize\n",
    "from itertools import combinations\n",
    "from operator import itemgetter\n",
    "from sklearn.cluster import KMeans\n",
    "from scipy.spatial.distance import euclidean"
   ]
  },
  {
   "cell_type": "code",
   "execution_count": 2,
   "metadata": {
    "colab": {},
    "colab_type": "code",
    "id": "qqkOp5TTzj-W"
   },
   "outputs": [],
   "source": [
    "RESULTS_PATH = 'data/results'\n",
    "FEATURES_PATH = 'data/features'"
   ]
  },
  {
   "cell_type": "code",
   "execution_count": 3,
   "metadata": {
    "colab": {},
    "colab_type": "code",
    "id": "AshvJcsNzmLF"
   },
   "outputs": [],
   "source": [
    "results_dfs = {}\n",
    "for filename in os.listdir(RESULTS_PATH):\n",
    "    archtecture = re.search(r'(?<=results_).*(?=.csv)', filename).group()\n",
    "    results_dfs[archtecture] = pd.read_csv(os.path.join(RESULTS_PATH, filename))"
   ]
  },
  {
   "cell_type": "code",
   "execution_count": 4,
   "metadata": {
    "colab": {},
    "colab_type": "code",
    "id": "DqPfCNARzpN4"
   },
   "outputs": [],
   "source": [
    "metabase_df = pd.concat(results_dfs.values(), ignore_index=True)"
   ]
  },
  {
   "cell_type": "code",
   "execution_count": 5,
   "metadata": {
    "colab": {
     "base_uri": "https://localhost:8080/",
     "height": 408
    },
    "colab_type": "code",
    "id": "okTXASd7zrUt",
    "outputId": "d4ced051-eedb-4ecc-c097-6ff71627ba2c"
   },
   "outputs": [
    {
     "data": {
      "text/html": [
       "<div>\n",
       "<style scoped>\n",
       "    .dataframe tbody tr th:only-of-type {\n",
       "        vertical-align: middle;\n",
       "    }\n",
       "\n",
       "    .dataframe tbody tr th {\n",
       "        vertical-align: top;\n",
       "    }\n",
       "\n",
       "    .dataframe thead th {\n",
       "        text-align: right;\n",
       "    }\n",
       "</style>\n",
       "<table border=\"1\" class=\"dataframe\">\n",
       "  <thead>\n",
       "    <tr style=\"text-align: right;\">\n",
       "      <th></th>\n",
       "      <th>Architecture</th>\n",
       "      <th>Classes</th>\n",
       "      <th>Accuracy_vector</th>\n",
       "      <th>Precision_vector</th>\n",
       "      <th>Recall_vector</th>\n",
       "      <th>F1_vector</th>\n",
       "      <th>Accuracy_avg</th>\n",
       "      <th>Precision_Avg</th>\n",
       "      <th>Recall_Avg</th>\n",
       "      <th>F1_avg</th>\n",
       "    </tr>\n",
       "  </thead>\n",
       "  <tbody>\n",
       "    <tr>\n",
       "      <th>0</th>\n",
       "      <td>ResNet10</td>\n",
       "      <td>airplane-automobile</td>\n",
       "      <td>[0.942, 0.939, 0.93, 0.9275, 0.916, 0.9315, 0....</td>\n",
       "      <td>[0.9203510204081633, 0.9051657032755298, 0.893...</td>\n",
       "      <td>[0.932, 0.958, 0.948, 0.939, 0.954, 0.938, 0.8...</td>\n",
       "      <td>[0.9414141414141414, 0.9401373895976447, 0.931...</td>\n",
       "      <td>0.92505</td>\n",
       "      <td>0.892683</td>\n",
       "      <td>0.9274</td>\n",
       "      <td>0.925149</td>\n",
       "    </tr>\n",
       "    <tr>\n",
       "      <th>1</th>\n",
       "      <td>ResNet10</td>\n",
       "      <td>airplane-bird</td>\n",
       "      <td>[0.89, 0.889, 0.8935, 0.882, 0.875, 0.8895, 0....</td>\n",
       "      <td>[0.8614113785557986, 0.8492249488752557, 0.852...</td>\n",
       "      <td>[0.847, 0.878, 0.89, 0.886, 0.888, 0.89, 0.887...</td>\n",
       "      <td>[0.8850574712643677, 0.8877654196157735, 0.893...</td>\n",
       "      <td>0.88480</td>\n",
       "      <td>0.843588</td>\n",
       "      <td>0.8753</td>\n",
       "      <td>0.883662</td>\n",
       "    </tr>\n",
       "    <tr>\n",
       "      <th>2</th>\n",
       "      <td>ResNet10</td>\n",
       "      <td>airplane-cat</td>\n",
       "      <td>[0.9245, 0.9325, 0.935, 0.926, 0.932, 0.925, 0...</td>\n",
       "      <td>[0.8897871921182265, 0.8980344995140912, 0.905...</td>\n",
       "      <td>[0.932, 0.947, 0.937, 0.938, 0.961, 0.909, 0.8...</td>\n",
       "      <td>[0.9250620347394541, 0.933464760965993, 0.9351...</td>\n",
       "      <td>0.92580</td>\n",
       "      <td>0.893557</td>\n",
       "      <td>0.9279</td>\n",
       "      <td>0.925876</td>\n",
       "    </tr>\n",
       "    <tr>\n",
       "      <th>3</th>\n",
       "      <td>ResNet10</td>\n",
       "      <td>airplane-deer</td>\n",
       "      <td>[0.9475, 0.9125, 0.943, 0.93, 0.917, 0.936, 0....</td>\n",
       "      <td>[0.9234072781655036, 0.8553790534618757, 0.921...</td>\n",
       "      <td>[0.949, 0.983, 0.933, 0.98, 0.935, 0.928, 0.95...</td>\n",
       "      <td>[0.947578632051922, 0.9182624941616068, 0.9424...</td>\n",
       "      <td>0.93320</td>\n",
       "      <td>0.900529</td>\n",
       "      <td>0.9460</td>\n",
       "      <td>0.934192</td>\n",
       "    </tr>\n",
       "    <tr>\n",
       "      <th>4</th>\n",
       "      <td>ResNet10</td>\n",
       "      <td>airplane-dog</td>\n",
       "      <td>[0.948, 0.9515, 0.936, 0.947, 0.9345, 0.9475, ...</td>\n",
       "      <td>[0.924704, 0.9361238390092881, 0.9224043010752...</td>\n",
       "      <td>[0.948, 0.936, 0.901, 0.95, 0.914, 0.93, 0.955...</td>\n",
       "      <td>[0.948, 0.9507364144235654, 0.9336787564766839...</td>\n",
       "      <td>0.94470</td>\n",
       "      <td>0.923633</td>\n",
       "      <td>0.9363</td>\n",
       "      <td>0.944177</td>\n",
       "    </tr>\n",
       "  </tbody>\n",
       "</table>\n",
       "</div>"
      ],
      "text/plain": [
       "  Architecture              Classes  \\\n",
       "0     ResNet10  airplane-automobile   \n",
       "1     ResNet10        airplane-bird   \n",
       "2     ResNet10         airplane-cat   \n",
       "3     ResNet10        airplane-deer   \n",
       "4     ResNet10         airplane-dog   \n",
       "\n",
       "                                     Accuracy_vector  \\\n",
       "0  [0.942, 0.939, 0.93, 0.9275, 0.916, 0.9315, 0....   \n",
       "1  [0.89, 0.889, 0.8935, 0.882, 0.875, 0.8895, 0....   \n",
       "2  [0.9245, 0.9325, 0.935, 0.926, 0.932, 0.925, 0...   \n",
       "3  [0.9475, 0.9125, 0.943, 0.93, 0.917, 0.936, 0....   \n",
       "4  [0.948, 0.9515, 0.936, 0.947, 0.9345, 0.9475, ...   \n",
       "\n",
       "                                    Precision_vector  \\\n",
       "0  [0.9203510204081633, 0.9051657032755298, 0.893...   \n",
       "1  [0.8614113785557986, 0.8492249488752557, 0.852...   \n",
       "2  [0.8897871921182265, 0.8980344995140912, 0.905...   \n",
       "3  [0.9234072781655036, 0.8553790534618757, 0.921...   \n",
       "4  [0.924704, 0.9361238390092881, 0.9224043010752...   \n",
       "\n",
       "                                       Recall_vector  \\\n",
       "0  [0.932, 0.958, 0.948, 0.939, 0.954, 0.938, 0.8...   \n",
       "1  [0.847, 0.878, 0.89, 0.886, 0.888, 0.89, 0.887...   \n",
       "2  [0.932, 0.947, 0.937, 0.938, 0.961, 0.909, 0.8...   \n",
       "3  [0.949, 0.983, 0.933, 0.98, 0.935, 0.928, 0.95...   \n",
       "4  [0.948, 0.936, 0.901, 0.95, 0.914, 0.93, 0.955...   \n",
       "\n",
       "                                           F1_vector  Accuracy_avg  \\\n",
       "0  [0.9414141414141414, 0.9401373895976447, 0.931...       0.92505   \n",
       "1  [0.8850574712643677, 0.8877654196157735, 0.893...       0.88480   \n",
       "2  [0.9250620347394541, 0.933464760965993, 0.9351...       0.92580   \n",
       "3  [0.947578632051922, 0.9182624941616068, 0.9424...       0.93320   \n",
       "4  [0.948, 0.9507364144235654, 0.9336787564766839...       0.94470   \n",
       "\n",
       "   Precision_Avg  Recall_Avg    F1_avg  \n",
       "0       0.892683      0.9274  0.925149  \n",
       "1       0.843588      0.8753  0.883662  \n",
       "2       0.893557      0.9279  0.925876  \n",
       "3       0.900529      0.9460  0.934192  \n",
       "4       0.923633      0.9363  0.944177  "
      ]
     },
     "execution_count": 5,
     "metadata": {},
     "output_type": "execute_result"
    }
   ],
   "source": [
    "metabase_df.head()"
   ]
  },
  {
   "cell_type": "code",
   "execution_count": 6,
   "metadata": {
    "colab": {},
    "colab_type": "code",
    "id": "oRxzFp-8ztVu"
   },
   "outputs": [],
   "source": [
    "features = {}\n",
    "for filename in os.listdir(FEATURES_PATH):\n",
    "    class_ = re.search(r'\\w+(?=.data)', filename).group()\n",
    "    with open(os.path.join(FEATURES_PATH, filename), 'rb') as f:\n",
    "        features[class_] = pickle.load(f)"
   ]
  },
  {
   "cell_type": "code",
   "execution_count": 7,
   "metadata": {
    "colab": {},
    "colab_type": "code",
    "id": "ICybqPtDzvkc"
   },
   "outputs": [],
   "source": [
    "centroids = {}\n",
    "for classes in metabase_df['Classes'].unique():\n",
    "    class_1, class_2 = classes.split('-')\n",
    "    X = np.concatenate((features[class_1], features[class_2]), axis=0)\n",
    "    kmeans = KMeans(n_clusters=2, random_state=0)\n",
    "    kmeans.fit(X)\n",
    "    centroids[classes] = kmeans.cluster_centers_"
   ]
  },
  {
   "cell_type": "code",
   "execution_count": 8,
   "metadata": {
    "colab": {},
    "colab_type": "code",
    "id": "lurXLA0SzxWu"
   },
   "outputs": [],
   "source": [
    "distances = {}\n",
    "for tasks in combinations(metabase_df['Classes'].unique(), 2):\n",
    "    task_1, task_2 = tasks\n",
    "    distances[tasks] = min(\n",
    "        np.mean([\n",
    "            euclidean(centroids[task_1][0], centroids[task_2][0]),\n",
    "            euclidean(centroids[task_1][1], centroids[task_2][1])\n",
    "        ]),\n",
    "        np.mean([\n",
    "            euclidean(centroids[task_1][0], centroids[task_2][1]),\n",
    "            euclidean(centroids[task_1][1], centroids[task_2][0])\n",
    "        ])\n",
    "    )"
   ]
  },
  {
   "cell_type": "code",
   "execution_count": 9,
   "metadata": {
    "colab": {},
    "colab_type": "code",
    "id": "r3eaVVD38myV"
   },
   "outputs": [],
   "source": [
    "ranking_best_architecture_by_tasks = {}\n",
    "for task in metabase_df['Classes'].unique():\n",
    "    ranking_best_architecture_by_tasks[task] = metabase_df[\n",
    "        metabase_df['Classes'] == task\n",
    "    ].sort_values('Accuracy_avg', ascending=False)['Architecture'].tolist()"
   ]
  },
  {
   "cell_type": "code",
   "execution_count": 10,
   "metadata": {
    "colab": {},
    "colab_type": "code",
    "id": "4nl7wKt24s6R"
   },
   "outputs": [],
   "source": [
    "similar_tasks_by_tasks = {}\n",
    "for task in metabase_df['Classes'].unique():\n",
    "    hypotheses = []\n",
    "    for tasks in distances.keys():\n",
    "        if task in tasks:\n",
    "            hypothese = tasks[1] if task == tasks[0] else tasks[0]\n",
    "            hypotheses.append((hypothese, distances[tasks]))\n",
    "    similar_tasks_by_tasks[task] = sorted(hypotheses, key=itemgetter(1))"
   ]
  },
  {
   "cell_type": "code",
   "execution_count": 11,
   "metadata": {
    "colab": {},
    "colab_type": "code",
    "id": "bZbvFsgpDcXT"
   },
   "outputs": [],
   "source": [
    "recommendations_df = pd.DataFrame(\n",
    "    metabase_df['Classes'].unique(),\n",
    "    columns=['Task']\n",
    ")"
   ]
  },
  {
   "cell_type": "code",
   "execution_count": 12,
   "metadata": {
    "colab": {},
    "colab_type": "code",
    "id": "j_xlEaNYPZId"
   },
   "outputs": [],
   "source": [
    "recommendations_df['Best_architecture'] = recommendations_df.apply(\n",
    "    lambda row: ranking_best_architecture_by_tasks[row['Task']][0],\n",
    "    axis=1\n",
    ")"
   ]
  },
  {
   "cell_type": "code",
   "execution_count": 13,
   "metadata": {
    "colab": {},
    "colab_type": "code",
    "id": "BA_6LzwNYnI8"
   },
   "outputs": [],
   "source": [
    "recommendations = []\n",
    "for n in range(3):\n",
    "    recommendation = []\n",
    "    for task in recommendations_df['Task']:\n",
    "        similar_task, centroids_distance = similar_tasks_by_tasks[task][n]\n",
    "        recommended_architecture = ranking_best_architecture_by_tasks[\n",
    "            similar_task\n",
    "        ][0]\n",
    "        recommended_architecture_rank = ranking_best_architecture_by_tasks[\n",
    "            task\n",
    "        ].index(recommended_architecture)\n",
    "        recommendation.append('{} - {:.4f} - {} - {}'.format(\n",
    "            similar_task,\n",
    "            centroids_distance,\n",
    "            recommended_architecture,\n",
    "            humanize.ordinal(recommended_architecture_rank + 1)\n",
    "        ))\n",
    "    recommendations.append(recommendation)"
   ]
  },
  {
   "cell_type": "code",
   "execution_count": 14,
   "metadata": {
    "colab": {},
    "colab_type": "code",
    "id": "drqPRfdUg9pw"
   },
   "outputs": [],
   "source": [
    "(\n",
    "    recommendations_df['First_recommendation'],\n",
    "    recommendations_df['Second_recommendation'],\n",
    "    recommendations_df['Third_recommendation']\n",
    ") = recommendations"
   ]
  },
  {
   "cell_type": "code",
   "execution_count": 15,
   "metadata": {
    "colab": {
     "base_uri": "https://localhost:8080/",
     "height": 204
    },
    "colab_type": "code",
    "id": "9zgK_dKAFlut",
    "outputId": "db6a5b44-fc4a-48b3-9f66-ca5f6ca8abca"
   },
   "outputs": [
    {
     "data": {
      "text/html": [
       "<div>\n",
       "<style scoped>\n",
       "    .dataframe tbody tr th:only-of-type {\n",
       "        vertical-align: middle;\n",
       "    }\n",
       "\n",
       "    .dataframe tbody tr th {\n",
       "        vertical-align: top;\n",
       "    }\n",
       "\n",
       "    .dataframe thead th {\n",
       "        text-align: right;\n",
       "    }\n",
       "</style>\n",
       "<table border=\"1\" class=\"dataframe\">\n",
       "  <thead>\n",
       "    <tr style=\"text-align: right;\">\n",
       "      <th></th>\n",
       "      <th>Task</th>\n",
       "      <th>Best_architecture</th>\n",
       "      <th>First_recommendation</th>\n",
       "      <th>Second_recommendation</th>\n",
       "      <th>Third_recommendation</th>\n",
       "    </tr>\n",
       "  </thead>\n",
       "  <tbody>\n",
       "    <tr>\n",
       "      <th>0</th>\n",
       "      <td>airplane-automobile</td>\n",
       "      <td>MiniVGG1</td>\n",
       "      <td>automobile-ship - 0.0521 - MiniGoogLeNet1 - 4th</td>\n",
       "      <td>airplane-truck - 0.0683 - MiniVGG3 - 2nd</td>\n",
       "      <td>ship-truck - 0.0835 - MiniVGG3 - 2nd</td>\n",
       "    </tr>\n",
       "    <tr>\n",
       "      <th>1</th>\n",
       "      <td>airplane-bird</td>\n",
       "      <td>MiniVGG1</td>\n",
       "      <td>airplane-deer - 0.0380 - MiniGoogLeNet1 - 2nd</td>\n",
       "      <td>bird-ship - 0.0513 - MiniVGG3 - 4th</td>\n",
       "      <td>deer-ship - 0.0599 - MiniGoogLeNet1 - 2nd</td>\n",
       "    </tr>\n",
       "    <tr>\n",
       "      <th>2</th>\n",
       "      <td>airplane-cat</td>\n",
       "      <td>MiniVGG3</td>\n",
       "      <td>cat-ship - 0.0517 - MiniVGG3 - 1st</td>\n",
       "      <td>airplane-deer - 0.0551 - MiniGoogLeNet1 - 4th</td>\n",
       "      <td>airplane-dog - 0.0604 - MiniGoogLeNet1 - 4th</td>\n",
       "    </tr>\n",
       "    <tr>\n",
       "      <th>3</th>\n",
       "      <td>airplane-deer</td>\n",
       "      <td>MiniGoogLeNet1</td>\n",
       "      <td>airplane-bird - 0.0380 - MiniVGG1 - 6th</td>\n",
       "      <td>deer-ship - 0.0509 - MiniGoogLeNet1 - 1st</td>\n",
       "      <td>airplane-cat - 0.0551 - MiniVGG3 - 2nd</td>\n",
       "    </tr>\n",
       "    <tr>\n",
       "      <th>4</th>\n",
       "      <td>airplane-dog</td>\n",
       "      <td>MiniGoogLeNet1</td>\n",
       "      <td>dog-ship - 0.0520 - MiniVGG1 - 4th</td>\n",
       "      <td>airplane-cat - 0.0604 - MiniVGG3 - 2nd</td>\n",
       "      <td>horse-ship - 0.0756 - MiniVGG3 - 2nd</td>\n",
       "    </tr>\n",
       "  </tbody>\n",
       "</table>\n",
       "</div>"
      ],
      "text/plain": [
       "                  Task Best_architecture  \\\n",
       "0  airplane-automobile          MiniVGG1   \n",
       "1        airplane-bird          MiniVGG1   \n",
       "2         airplane-cat          MiniVGG3   \n",
       "3        airplane-deer    MiniGoogLeNet1   \n",
       "4         airplane-dog    MiniGoogLeNet1   \n",
       "\n",
       "                              First_recommendation  \\\n",
       "0  automobile-ship - 0.0521 - MiniGoogLeNet1 - 4th   \n",
       "1    airplane-deer - 0.0380 - MiniGoogLeNet1 - 2nd   \n",
       "2               cat-ship - 0.0517 - MiniVGG3 - 1st   \n",
       "3          airplane-bird - 0.0380 - MiniVGG1 - 6th   \n",
       "4               dog-ship - 0.0520 - MiniVGG1 - 4th   \n",
       "\n",
       "                           Second_recommendation  \\\n",
       "0       airplane-truck - 0.0683 - MiniVGG3 - 2nd   \n",
       "1            bird-ship - 0.0513 - MiniVGG3 - 4th   \n",
       "2  airplane-deer - 0.0551 - MiniGoogLeNet1 - 4th   \n",
       "3      deer-ship - 0.0509 - MiniGoogLeNet1 - 1st   \n",
       "4         airplane-cat - 0.0604 - MiniVGG3 - 2nd   \n",
       "\n",
       "                           Third_recommendation  \n",
       "0          ship-truck - 0.0835 - MiniVGG3 - 2nd  \n",
       "1     deer-ship - 0.0599 - MiniGoogLeNet1 - 2nd  \n",
       "2  airplane-dog - 0.0604 - MiniGoogLeNet1 - 4th  \n",
       "3        airplane-cat - 0.0551 - MiniVGG3 - 2nd  \n",
       "4          horse-ship - 0.0756 - MiniVGG3 - 2nd  "
      ]
     },
     "execution_count": 15,
     "metadata": {},
     "output_type": "execute_result"
    }
   ],
   "source": [
    "recommendations_df.head()"
   ]
  },
  {
   "cell_type": "code",
   "execution_count": 16,
   "metadata": {},
   "outputs": [],
   "source": [
    "recommendations_df.to_csv('recommendations.csv', index=False)"
   ]
  }
 ],
 "metadata": {
  "colab": {
   "collapsed_sections": [],
   "name": "architecture_recommendation",
   "provenance": []
  },
  "kernelspec": {
   "display_name": "Python 3",
   "language": "python",
   "name": "python3"
  },
  "language_info": {
   "codemirror_mode": {
    "name": "ipython",
    "version": 3
   },
   "file_extension": ".py",
   "mimetype": "text/x-python",
   "name": "python",
   "nbconvert_exporter": "python",
   "pygments_lexer": "ipython3",
   "version": "3.7.0"
  }
 },
 "nbformat": 4,
 "nbformat_minor": 1
}
